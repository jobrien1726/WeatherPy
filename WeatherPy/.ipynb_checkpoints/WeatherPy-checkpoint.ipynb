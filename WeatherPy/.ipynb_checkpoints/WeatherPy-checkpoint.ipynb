{
 "cells": [
  {
   "cell_type": "markdown",
   "metadata": {},
   "source": [
    "# WeatherPy\n",
    "----\n",
    "\n",
    "#### Note\n",
    "* Instructions have been included for each segment. You do not have to follow them exactly, but they are included to help you think through the steps."
   ]
  },
  {
   "cell_type": "code",
   "execution_count": null,
   "metadata": {},
   "outputs": [],
   "source": [
    "pip install citipy"
   ]
  },
  {
   "cell_type": "code",
   "execution_count": 1,
   "metadata": {
    "scrolled": true
   },
   "outputs": [],
   "source": [
    "# Dependencies and Setup\n",
    "import matplotlib.pyplot as plt\n",
    "import pandas as pd\n",
    "import numpy as np\n",
    "import requests\n",
    "import time\n",
    "import json\n",
    "\n",
    "# Import API key\n",
    "from api_keys import api_key\n",
    "\n",
    "# Incorporated citipy to determine city based on latitude and longitude\n",
    "from citipy import citipy\n",
    "\n",
    "# Output File (CSV)\n",
    "output_data_file = \"output_data/cities.csv\"\n",
    "\n",
    "# Range of latitudes and longitudes\n",
    "lat_range = (-90, 90)\n",
    "lng_range = (-180, 180)"
   ]
  },
  {
   "cell_type": "markdown",
   "metadata": {},
   "source": [
    "## Generate Cities List"
   ]
  },
  {
   "cell_type": "code",
   "execution_count": 4,
   "metadata": {},
   "outputs": [
    {
     "data": {
      "text/plain": [
       "636"
      ]
     },
     "execution_count": 4,
     "metadata": {},
     "output_type": "execute_result"
    }
   ],
   "source": [
    "# List for holding lat_lngs and cities\n",
    "lat_lngs = []\n",
    "cities = []\n",
    "\n",
    "# Create a set of random lat and lng combinations\n",
    "lats = np.random.uniform(low=-90.000, high=90.000, size=1500)\n",
    "lngs = np.random.uniform(low=-180.000, high=180.000, size=1500)\n",
    "lat_lngs = zip(lats, lngs)\n",
    "\n",
    "# Identify nearest city for each lat, lng combination\n",
    "for lat_lng in lat_lngs:\n",
    "    city = citipy.nearest_city(lat_lng[0], lat_lng[1]).city_name\n",
    "    \n",
    "    # If the city is unique, then add it to a our cities list\n",
    "    if city not in cities:\n",
    "        cities.append(city)\n",
    "\n",
    "# Print the city count to confirm sufficient count\n",
    "len(cities)"
   ]
  },
  {
   "cell_type": "markdown",
   "metadata": {},
   "source": [
    "### Perform API Calls\n",
    "* Perform a weather check on each city using a series of successive API calls.\n",
    "* Include a print log of each city as it'sbeing processed (with the city number and city name).\n"
   ]
  },
  {
   "cell_type": "code",
   "execution_count": 26,
   "metadata": {},
   "outputs": [
    {
     "name": "stdout",
     "output_type": "stream",
     "text": [
      "['kapaa', 'pangnirtung', 'tuatapere', 'san patricio', 'ilulissat', 'faya', 'phangnga', 'barrow', 'pevek', 'half moon bay', 'yarim', 'rikitea', 'ostrovnoy', 'antsohihy', 'pontal do parana', 'atuona', 'grua', 'rafaela', 'road town', 'mataura', 'esperance', 'chirongui', 'sao desiderio', 'saint-augustin', 'portland', 'praia da vitoria', 'broome', 'beringovskiy', 'kerrobert', 'viligili', 'carnarvon', 'upernavik', 'punta arenas', 'alofi', 'kawana waters', 'vaitupu', 'codrington', 'north bend', 'kovur', 'ushuaia', 'busselton', 'northwich', 'srednekolymsk', 'puerto ayora', 'iztapa', 'kloulklubed', 'alta floresta', 'tessalit', 'shimoda', 'ankazoabo']\n",
      "http://api.openweathermap.org/data/2.5/weather?units=imperial&appid=49551444b0b6bd93e0c350529835ee1d&q=\n",
      "Beginning Data Retrieval\n",
      "-----------------------------------------\n",
      "Processing Record 1 | kapaa\n",
      "Processing Record 2 | pangnirtung\n",
      "Processing Record 3 | tuatapere\n",
      "Processing Record 4 | san patricio\n",
      "Processing Record 5 | ilulissat\n",
      "Processing Record 6 | faya\n",
      "Processing Record 7 | phangnga\n",
      "Processing Record 8 | barrow\n",
      "Processing Record 9 | pevek\n",
      "Processing Record 10 | half moon bay\n",
      "Processing Record 11 | yarim\n",
      "Processing Record 12 | rikitea\n",
      "Processing Record 13 | ostrovnoy\n",
      "Processing Record 14 | antsohihy\n",
      "Processing Record 15 | pontal do parana\n",
      "Processing Record 16 | atuona\n",
      "Processing Record 17 | grua\n",
      "Processing Record 18 | rafaela\n",
      "Processing Record 19 | road town\n",
      "Processing Record 20 | mataura\n",
      "Processing Record 21 | esperance\n",
      "Processing Record 22 | chirongui\n",
      "Processing Record 23 | sao desiderio\n",
      "Processing Record 24 | saint-augustin\n",
      "Processing Record 25 | portland\n",
      "Processing Record 26 | praia da vitoria\n",
      "Processing Record 27 | broome\n",
      "Processing Record 28 | beringovskiy\n",
      "Processing Record 29 | kerrobert\n",
      "Processing Record 30 | viligili\n",
      "City Not Found. Skipping this City...\n",
      "Processing Record 31 | carnarvon\n",
      "Processing Record 32 | upernavik\n",
      "Processing Record 33 | punta arenas\n",
      "Processing Record 34 | alofi\n",
      "Processing Record 35 | kawana waters\n",
      "City Not Found. Skipping this City...\n",
      "Processing Record 36 | vaitupu\n",
      "City Not Found. Skipping this City...\n",
      "Processing Record 37 | codrington\n",
      "Processing Record 38 | north bend\n",
      "Processing Record 39 | kovur\n",
      "Processing Record 40 | ushuaia\n",
      "Processing Record 41 | busselton\n",
      "Processing Record 42 | northwich\n",
      "Processing Record 43 | srednekolymsk\n",
      "Processing Record 44 | puerto ayora\n",
      "Processing Record 45 | iztapa\n",
      "Processing Record 46 | kloulklubed\n",
      "Processing Record 47 | alta floresta\n",
      "Processing Record 48 | tessalit\n",
      "Processing Record 49 | shimoda\n",
      "Processing Record 50 | ankazoabo\n",
      "------------------------------------------\n",
      "Data Retrieval Complete\n",
      "------------------------------------------\n",
      "[{'City': 'kapaa', 'Latitude': 22.08, 'Max Temperature (F)': 75.2, 'Humidity (%)': 83, 'Cloudiness (%)': 40, 'Wind Speed (mph)': 17.22}, {'City': 'pangnirtung', 'Latitude': 66.15, 'Max Temperature (F)': 10.4, 'Humidity (%)': 55, 'Cloudiness (%)': 90, 'Wind Speed (mph)': 4.7}, {'City': 'tuatapere', 'Latitude': -46.13, 'Max Temperature (F)': 51.01, 'Humidity (%)': 78, 'Cloudiness (%)': 50, 'Wind Speed (mph)': 1.99}, {'City': 'san patricio', 'Latitude': -26.98, 'Max Temperature (F)': 79.68, 'Humidity (%)': 38, 'Cloudiness (%)': 0, 'Wind Speed (mph)': 8.21}, {'City': 'ilulissat', 'Latitude': 69.22, 'Max Temperature (F)': 5, 'Humidity (%)': 54, 'Cloudiness (%)': 5, 'Wind Speed (mph)': 20.8}, {'City': 'faya', 'Latitude': 18.39, 'Max Temperature (F)': 66.2, 'Humidity (%)': 82, 'Cloudiness (%)': 20, 'Wind Speed (mph)': 8.05}, {'City': 'phangnga', 'Latitude': 8.45, 'Max Temperature (F)': 77, 'Humidity (%)': 78, 'Cloudiness (%)': 20, 'Wind Speed (mph)': 6.93}, {'City': 'barrow', 'Latitude': -38.31, 'Max Temperature (F)': 72.99, 'Humidity (%)': 27, 'Cloudiness (%)': 31, 'Wind Speed (mph)': 7.36}, {'City': 'pevek', 'Latitude': 69.7, 'Max Temperature (F)': -1.75, 'Humidity (%)': 86, 'Cloudiness (%)': 0, 'Wind Speed (mph)': 2.06}, {'City': 'half moon bay', 'Latitude': 37.46, 'Max Temperature (F)': 54, 'Humidity (%)': 93, 'Cloudiness (%)': 20, 'Wind Speed (mph)': 6.58}, {'City': 'yarim', 'Latitude': 14.3, 'Max Temperature (F)': 54.43, 'Humidity (%)': 41, 'Cloudiness (%)': 20, 'Wind Speed (mph)': 16.8}, {'City': 'rikitea', 'Latitude': -23.12, 'Max Temperature (F)': 77.14, 'Humidity (%)': 84, 'Cloudiness (%)': 0, 'Wind Speed (mph)': 6.13}, {'City': 'ostrovnoy', 'Latitude': 68.05, 'Max Temperature (F)': 20.82, 'Humidity (%)': 93, 'Cloudiness (%)': 100, 'Wind Speed (mph)': 17.43}, {'City': 'antsohihy', 'Latitude': -14.88, 'Max Temperature (F)': 85.69, 'Humidity (%)': 59, 'Cloudiness (%)': 28, 'Wind Speed (mph)': 7.25}, {'City': 'pontal do parana', 'Latitude': -25.67, 'Max Temperature (F)': 71.6, 'Humidity (%)': 83, 'Cloudiness (%)': 40, 'Wind Speed (mph)': 10.29}, {'City': 'atuona', 'Latitude': -9.8, 'Max Temperature (F)': 79.09, 'Humidity (%)': 76, 'Cloudiness (%)': 31, 'Wind Speed (mph)': 15.7}, {'City': 'grua', 'Latitude': 46.83, 'Max Temperature (F)': 32, 'Humidity (%)': 68, 'Cloudiness (%)': 75, 'Wind Speed (mph)': 3.36}, {'City': 'rafaela', 'Latitude': -31.25, 'Max Temperature (F)': 79.16, 'Humidity (%)': 18, 'Cloudiness (%)': 0, 'Wind Speed (mph)': 8.86}, {'City': 'road town', 'Latitude': 18.42, 'Max Temperature (F)': 86, 'Humidity (%)': 74, 'Cloudiness (%)': 40, 'Wind Speed (mph)': 9.17}, {'City': 'mataura', 'Latitude': -46.19, 'Max Temperature (F)': 51.01, 'Humidity (%)': 78, 'Cloudiness (%)': 60, 'Wind Speed (mph)': 1.99}, {'City': 'esperance', 'Latitude': -33.86, 'Max Temperature (F)': 55.4, 'Humidity (%)': 93, 'Cloudiness (%)': 2, 'Wind Speed (mph)': 8.05}, {'City': 'chirongui', 'Latitude': -12.93, 'Max Temperature (F)': 84.2, 'Humidity (%)': 79, 'Cloudiness (%)': 37, 'Wind Speed (mph)': 5.82}, {'City': 'sao desiderio', 'Latitude': -12.36, 'Max Temperature (F)': 81.64, 'Humidity (%)': 70, 'Cloudiness (%)': 22, 'Wind Speed (mph)': 6.38}, {'City': 'saint-augustin', 'Latitude': 45.63, 'Max Temperature (F)': 33.01, 'Humidity (%)': 81, 'Cloudiness (%)': 90, 'Wind Speed (mph)': 9.17}, {'City': 'portland', 'Latitude': 43.66, 'Max Temperature (F)': 37.4, 'Humidity (%)': 69, 'Cloudiness (%)': 20, 'Wind Speed (mph)': 4.7}, {'City': 'praia da vitoria', 'Latitude': 38.73, 'Max Temperature (F)': 64.99, 'Humidity (%)': 68, 'Cloudiness (%)': 20, 'Wind Speed (mph)': 2.57}, {'City': 'broome', 'Latitude': 52.47, 'Max Temperature (F)': 46, 'Humidity (%)': 87, 'Cloudiness (%)': 100, 'Wind Speed (mph)': 13.87}, {'City': 'beringovskiy', 'Latitude': 63.05, 'Max Temperature (F)': 26.2, 'Humidity (%)': 92, 'Cloudiness (%)': 100, 'Wind Speed (mph)': 24.76}, {'City': 'kerrobert', 'Latitude': 51.92, 'Max Temperature (F)': 21, 'Humidity (%)': 92, 'Cloudiness (%)': 75, 'Wind Speed (mph)': 6.93}, {'City': 'carnarvon', 'Latitude': -30.97, 'Max Temperature (F)': 83.37, 'Humidity (%)': 13, 'Cloudiness (%)': 69, 'Wind Speed (mph)': 9.24}, {'City': 'upernavik', 'Latitude': 72.79, 'Max Temperature (F)': 7.75, 'Humidity (%)': 73, 'Cloudiness (%)': 5, 'Wind Speed (mph)': 12.01}, {'City': 'punta arenas', 'Latitude': -53.16, 'Max Temperature (F)': 51.8, 'Humidity (%)': 57, 'Cloudiness (%)': 75, 'Wind Speed (mph)': 36.91}, {'City': 'alofi', 'Latitude': -19.06, 'Max Temperature (F)': 73.4, 'Humidity (%)': 94, 'Cloudiness (%)': 40, 'Wind Speed (mph)': 2.24}, {'City': 'codrington', 'Latitude': -28.95, 'Max Temperature (F)': 69.01, 'Humidity (%)': 76, 'Cloudiness (%)': 0, 'Wind Speed (mph)': 4.7}, {'City': 'north bend', 'Latitude': 43.41, 'Max Temperature (F)': 44.6, 'Humidity (%)': 100, 'Cloudiness (%)': 90, 'Wind Speed (mph)': 4.7}, {'City': 'kovur', 'Latitude': 14.5, 'Max Temperature (F)': 75.99, 'Humidity (%)': 78, 'Cloudiness (%)': 92, 'Wind Speed (mph)': 9.66}, {'City': 'ushuaia', 'Latitude': -54.81, 'Max Temperature (F)': 48.2, 'Humidity (%)': 87, 'Cloudiness (%)': 75, 'Wind Speed (mph)': 38.03}, {'City': 'busselton', 'Latitude': -33.64, 'Max Temperature (F)': 78.01, 'Humidity (%)': 23, 'Cloudiness (%)': 0, 'Wind Speed (mph)': 15.19}, {'City': 'northwich', 'Latitude': 53.26, 'Max Temperature (F)': 52, 'Humidity (%)': 81, 'Cloudiness (%)': 75, 'Wind Speed (mph)': 10.29}, {'City': 'srednekolymsk', 'Latitude': 67.46, 'Max Temperature (F)': -3.51, 'Humidity (%)': 87, 'Cloudiness (%)': 95, 'Wind Speed (mph)': 15.48}, {'City': 'puerto ayora', 'Latitude': -0.74, 'Max Temperature (F)': 80.6, 'Humidity (%)': 61, 'Cloudiness (%)': 75, 'Wind Speed (mph)': 17.22}, {'City': 'iztapa', 'Latitude': 13.93, 'Max Temperature (F)': 87.8, 'Humidity (%)': 48, 'Cloudiness (%)': 30, 'Wind Speed (mph)': 6.93}, {'City': 'kloulklubed', 'Latitude': 7.04, 'Max Temperature (F)': 77, 'Humidity (%)': 94, 'Cloudiness (%)': 90, 'Wind Speed (mph)': 3.36}, {'City': 'alta floresta', 'Latitude': -9.87, 'Max Temperature (F)': 91.4, 'Humidity (%)': 59, 'Cloudiness (%)': 20, 'Wind Speed (mph)': 2.24}, {'City': 'tessalit', 'Latitude': 20.2, 'Max Temperature (F)': 91.11, 'Humidity (%)': 7, 'Cloudiness (%)': 0, 'Wind Speed (mph)': 13.4}, {'City': 'shimoda', 'Latitude': 34.7, 'Max Temperature (F)': 46.99, 'Humidity (%)': 78, 'Cloudiness (%)': 100, 'Wind Speed (mph)': 33.42}, {'City': 'ankazoabo', 'Latitude': -22.29, 'Max Temperature (F)': 80.02, 'Humidity (%)': 54, 'Cloudiness (%)': 16, 'Wind Speed (mph)': 18.32}]\n"
     ]
    }
   ],
   "source": [
    "# Take subset of cities list to make sure code running properly\n",
    "cities_sub = cities[0:50]\n",
    "print(cities_sub)\n",
    "\n",
    "# Base URL for Open Weather Map API, units in Farenheit\n",
    "base_url = \"http://api.openweathermap.org/data/2.5/weather?units=imperial&appid=\" + api_key + \"&q=\"\n",
    "print(base_url)\n",
    "\n",
    "# Create empty list to store relevant data from each city\n",
    "city_data = []\n",
    "\n",
    "# Print a statement showing API Calls have begun\n",
    "print(\"Beginning Data Retrieval\")\n",
    "print(\"-----------------------------------------\")\n",
    "\n",
    "# Iterate through cities list, make API call for weather data, save data we want to city_data list\n",
    "for city in cities_sub:\n",
    "    city_weather_data = requests.get(base_url + city).json()\n",
    "    #print(json.dumps(city_weather_data, indent=4))\n",
    "    try:\n",
    "        print(\"Processing Record \" + str(cities.index(city)+1) + \" | \" + str(city))\n",
    "        city_lat = city_weather_data[\"coord\"][\"lat\"]\n",
    "        city_mtemp = city_weather_data[\"main\"][\"temp_max\"]\n",
    "        city_humidity = city_weather_data[\"main\"][\"humidity\"]\n",
    "        city_clouds = city_weather_data[\"clouds\"][\"all\"]\n",
    "        city_windspeed = city_weather_data[\"wind\"][\"speed\"]\n",
    "        city_data_dict = {\"City\": city, \"Latitude\": city_lat, \"Max Temperature (F)\": city_mtemp,\n",
    "                          \"Humidity (%)\": city_humidity, \"Cloudiness (%)\": city_clouds,\n",
    "                          \"Wind Speed (mph)\": city_windspeed}\n",
    "        city_data.append(city_data_dict)\n",
    "    except (KeyError):\n",
    "        print(\"City Not Found. Skipping this City...\")\n",
    "\n",
    "print(\"------------------------------------------\")\n",
    "print(\"Data Retrieval Complete\")\n",
    "print(\"------------------------------------------\")\n",
    "print(city_data)"
   ]
  },
  {
   "cell_type": "markdown",
   "metadata": {},
   "source": [
    "### Convert Raw Data to DataFrame\n",
    "* Export the city data into a .csv.\n",
    "* Display the DataFrame"
   ]
  },
  {
   "cell_type": "code",
   "execution_count": null,
   "metadata": {},
   "outputs": [],
   "source": []
  },
  {
   "cell_type": "code",
   "execution_count": null,
   "metadata": {},
   "outputs": [],
   "source": []
  },
  {
   "cell_type": "markdown",
   "metadata": {},
   "source": [
    "### Plotting the Data\n",
    "* Use proper labeling of the plots using plot titles (including date of analysis) and axes labels.\n",
    "* Save the plotted figures as .pngs."
   ]
  },
  {
   "cell_type": "markdown",
   "metadata": {},
   "source": [
    "#### Latitude vs. Temperature Plot"
   ]
  },
  {
   "cell_type": "code",
   "execution_count": null,
   "metadata": {},
   "outputs": [],
   "source": []
  },
  {
   "cell_type": "markdown",
   "metadata": {},
   "source": [
    "#### Latitude vs. Humidity Plot"
   ]
  },
  {
   "cell_type": "code",
   "execution_count": null,
   "metadata": {},
   "outputs": [],
   "source": []
  },
  {
   "cell_type": "markdown",
   "metadata": {},
   "source": [
    "#### Latitude vs. Cloudiness Plot"
   ]
  },
  {
   "cell_type": "code",
   "execution_count": null,
   "metadata": {},
   "outputs": [],
   "source": []
  },
  {
   "cell_type": "markdown",
   "metadata": {},
   "source": [
    "#### Latitude vs. Wind Speed Plot"
   ]
  },
  {
   "cell_type": "code",
   "execution_count": null,
   "metadata": {},
   "outputs": [],
   "source": []
  },
  {
   "cell_type": "code",
   "execution_count": null,
   "metadata": {},
   "outputs": [],
   "source": []
  }
 ],
 "metadata": {
  "anaconda-cloud": {},
  "kernel_info": {
   "name": "python3"
  },
  "kernelspec": {
   "display_name": "Python 3",
   "language": "python",
   "name": "python3"
  },
  "language_info": {
   "codemirror_mode": {
    "name": "ipython",
    "version": 3
   },
   "file_extension": ".py",
   "mimetype": "text/x-python",
   "name": "python",
   "nbconvert_exporter": "python",
   "pygments_lexer": "ipython3",
   "version": "3.7.5"
  },
  "nteract": {
   "version": "0.12.3"
  }
 },
 "nbformat": 4,
 "nbformat_minor": 2
}
